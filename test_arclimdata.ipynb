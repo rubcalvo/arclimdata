{
 "cells": [
  {
   "cell_type": "code",
   "execution_count": null,
   "metadata": {},
   "outputs": [],
   "source": [
    "import os\n",
    "os.chdir(\"/mnt/d/arclim/\") # change dir to where arclimdata.py is located\n",
    "from arclimdata import arclimdata\n",
    "folder = \"/mnt/d/arclim/\" # where arclim data will be stored\n",
    "arclim = arclimdata(working_dir = folder)\n",
    "# arclim.download_climate_data() # download and extract arclim climate indices geotifs\n",
    "arclim.climate_indices ## returns a pandas dataframe with information about climate indices\n",
    "arclim.load_climate_indice(name = 'consecutive_days_over_25C', period = 'future', months = 'annual', format = 'xarray') # return a specific climate index as an xarray object.\n"
   ]
  }
 ],
 "metadata": {
  "language_info": {
   "name": "python"
  }
 },
 "nbformat": 4,
 "nbformat_minor": 2
}
